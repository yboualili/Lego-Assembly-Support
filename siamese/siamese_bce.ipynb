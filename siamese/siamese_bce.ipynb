{
 "cells": [
  {
   "cell_type": "code",
   "execution_count": 4,
   "metadata": {
    "collapsed": true
   },
   "outputs": [],
   "source": [
    "%matplotlib inline\n",
    "import matplotlib.pyplot as plt\n",
    "import numpy as np\n",
    "import random\n",
    "from PIL import Image\n",
    "import PIL.ImageOps\n",
    "\n",
    "import torchvision.datasets as datasets\n",
    "import torchvision.transforms as transforms\n",
    "from torch.utils.data import Dataset\n",
    "import torchvision.utils\n",
    "import torch\n",
    "import torch.nn as nn\n",
    "from torchvision import models\n",
    "from torch.utils.data import DataLoader\n",
    "from sklearn.metrics import classification_report\n",
    "import os\n",
    "from sklearn.metrics import f1_score"
   ]
  },
  {
   "cell_type": "code",
   "execution_count": 4,
   "outputs": [],
   "source": [],
   "metadata": {
    "collapsed": false,
    "pycharm": {
     "name": "#%%\n"
    }
   }
  },
  {
   "cell_type": "code",
   "execution_count": 5,
   "outputs": [],
   "source": [
    "# Showing images\n",
    "def imshow(img, text=None):\n",
    "    npimg = img.numpy()\n",
    "    plt.axis(\"off\")\n",
    "    if text:\n",
    "        plt.text(75, 8, text, style='italic',fontweight='bold',\n",
    "            bbox={'facecolor':'white', 'alpha':0.8, 'pad':10})\n",
    "\n",
    "    plt.imshow(np.transpose(npimg, (1, 2, 0)))\n",
    "    plt.show()\n",
    "\n",
    "# Plotting data\n",
    "def show_plot(iteration,loss):\n",
    "    plt.plot(iteration,loss)\n",
    "    plt.show()"
   ],
   "metadata": {
    "collapsed": false,
    "pycharm": {
     "name": "#%%\n"
    }
   }
  },
  {
   "cell_type": "code",
   "execution_count": 6,
   "outputs": [],
   "source": [
    "class SiameseNetworkDataset(Dataset):\n",
    "    # load in correct and false datasets\n",
    "    def __init__(self,imageFolderDataset,false_dataset, transform=None):\n",
    "        self.imageFolderDataset = imageFolderDataset\n",
    "        self.false_dataset = false_dataset\n",
    "        self.transform = transform\n",
    "\n",
    "    def __getitem__(self,index):\n",
    "        img0_tuple = self.imageFolderDataset[index]\n",
    "        #We need to approximately 50% of images to be correct pairs\n",
    "        should_get_same_class = random.randint(0,1)\n",
    "        if should_get_same_class:\n",
    "            while True:\n",
    "                #Look untill the same class image is found\n",
    "                img1_tuple = random.choice(self.imageFolderDataset)\n",
    "                if img0_tuple[1] == img1_tuple[1]:\n",
    "                    break\n",
    "        else:\n",
    "            # in 3 out of 4 cases, choose a false image from the same stage\n",
    "            # in the 1 out of 4 cases choose a false image from another stage\n",
    "            include_false =random.randint(0,4)\n",
    "\n",
    "            if include_false < 3:\n",
    "                while True:\n",
    "                    img1_tuple = random.choice(self.false_dataset)\n",
    "                    if img0_tuple[1] == img1_tuple[1]:\n",
    "                        break\n",
    "            else:\n",
    "                img1_tuple = random.choice(self.false_dataset)\n",
    "\n",
    "        # convert images and transpose them if necessary\n",
    "        img0 = img0_tuple[0].convert('RGB')\n",
    "        width, height = img0.size\n",
    "        if width > height:\n",
    "            img0 = img0.transpose(Image.TRANSPOSE)\n",
    "        img1 = img1_tuple[0].convert('RGB')\n",
    "        width, height = img1.size\n",
    "        if width > height:\n",
    "            img1 = img1.transpose(Image.TRANSPOSE)\n",
    "        if self.transform is not None:\n",
    "            img0 = self.transform(img0)\n",
    "            img1 = self.transform(img1)\n",
    "        return img0, img1, torch.from_numpy(np.array([should_get_same_class], dtype=np.float32)), img0_tuple[1]\n",
    "\n",
    "    def __len__(self):\n",
    "        #determines the amount max amount of steps during training\n",
    "        return len(self.imageFolderDataset)"
   ],
   "metadata": {
    "collapsed": false,
    "pycharm": {
     "name": "#%%\n"
    }
   }
  },
  {
   "cell_type": "code",
   "execution_count": 7,
   "outputs": [],
   "source": [
    "# Load the training dataset\n",
    "folder_dataset = datasets.ImageFolder(root=r\"D:\\PycharmProjects\\AISS\\siamese\\dataset_true\")\n",
    "false_dataset = datasets.ImageFolder(root=r\"D:\\PycharmProjects\\AISS\\siamese\\dataset_false\")\n",
    "\n",
    "folder_dataset_test = datasets.ImageFolder(root=r\"D:\\PycharmProjects\\AISS\\siamese\\dataset_true_val\")\n",
    "false_dataset_test = datasets.ImageFolder(root=r\"D:\\PycharmProjects\\AISS\\siamese\\dataset_false_val\")\n",
    "\n",
    "# Augment + Resize the images and transform to tensors\n",
    "transformation = transforms.Compose([\n",
    "                                    transforms.Resize((150, 50)),\n",
    "                                    transforms.RandomHorizontalFlip(),\n",
    "                                    transforms.RandomVerticalFlip(),\n",
    "                                     transforms.ToTensor()\n",
    "\n",
    "                                    ])\n",
    "\n",
    "transformation_test = transforms.Compose([\n",
    "                                    transforms.Resize((150, 50)),\n",
    "                                    transforms.RandomHorizontalFlip(),\n",
    "                                    transforms.RandomVerticalFlip(),\n",
    "                                     transforms.ToTensor()\n",
    "                                    ])\n",
    "\n",
    "# Initialize the Datasets\n",
    "siamese_dataset = SiameseNetworkDataset(imageFolderDataset=folder_dataset,false_dataset=false_dataset,\n",
    "                                        transform=transformation)\n",
    "\n",
    "siamese_dataset_test = SiameseNetworkDataset(imageFolderDataset=folder_dataset_test,false_dataset=false_dataset_test,\n",
    "                                        transform=transformation_test)"
   ],
   "metadata": {
    "collapsed": false,
    "pycharm": {
     "name": "#%%\n"
    }
   }
  },
  {
   "cell_type": "code",
   "execution_count": 8,
   "outputs": [
    {
     "name": "stderr",
     "output_type": "stream",
     "text": [
      "C:\\Users\\Admin\\AppData\\Local\\Temp\\ipykernel_5608\\2146420725.py:33: DeprecationWarning: TRANSPOSE is deprecated and will be removed in Pillow 10 (2023-07-01). Use Transpose.TRANSPOSE instead.\n",
      "  img0 = img0.transpose(Image.TRANSPOSE)\n",
      "C:\\Users\\Admin\\AppData\\Local\\Temp\\ipykernel_5608\\2146420725.py:37: DeprecationWarning: TRANSPOSE is deprecated and will be removed in Pillow 10 (2023-07-01). Use Transpose.TRANSPOSE instead.\n",
      "  img1 = img1.transpose(Image.TRANSPOSE)\n"
     ]
    },
    {
     "data": {
      "text/plain": "<Figure size 432x288 with 1 Axes>",
      "image/png": "[encoded data removed]"
     },
     "metadata": {
      "needs_background": "light"
     },
     "output_type": "display_data"
    },
    {
     "name": "stdout",
     "output_type": "stream",
     "text": [
      "[0. 1. 1.]\n"
     ]
    }
   ],
   "source": [
    "# Create a simple dataloader just for simple visualization\n",
    "vis_dataloader = DataLoader(siamese_dataset,\n",
    "                        shuffle=False,\n",
    "                        batch_size=3)\n",
    "# Extract one batch\n",
    "example_batch = next(iter(vis_dataloader))\n",
    "concatenated = torch.cat((example_batch[0], example_batch[1]),0)\n",
    "\n",
    "imshow(torchvision.utils.make_grid(concatenated))\n",
    "print(example_batch[2].numpy().reshape(-1))"
   ],
   "metadata": {
    "collapsed": false,
    "pycharm": {
     "name": "#%%\n"
    }
   }
  },
  {
   "cell_type": "code",
   "execution_count": 9,
   "outputs": [],
   "source": [
    "# create dataloader\n",
    "trainloader = DataLoader(siamese_dataset,\n",
    "                        batch_size=128)\n",
    "\n",
    "testloader = DataLoader(siamese_dataset_test,\n",
    "                        batch_size=128)"
   ],
   "metadata": {
    "collapsed": false,
    "pycharm": {
     "name": "#%%\n"
    }
   }
  },
  {
   "cell_type": "code",
   "execution_count": 10,
   "outputs": [
    {
     "name": "stderr",
     "output_type": "stream",
     "text": [
      "C:\\Users\\Admin\\AppData\\Local\\Temp\\ipykernel_5608\\2146420725.py:33: DeprecationWarning: TRANSPOSE is deprecated and will be removed in Pillow 10 (2023-07-01). Use Transpose.TRANSPOSE instead.\n",
      "  img0 = img0.transpose(Image.TRANSPOSE)\n",
      "C:\\Users\\Admin\\AppData\\Local\\Temp\\ipykernel_5608\\2146420725.py:37: DeprecationWarning: TRANSPOSE is deprecated and will be removed in Pillow 10 (2023-07-01). Use Transpose.TRANSPOSE instead.\n",
      "  img1 = img1.transpose(Image.TRANSPOSE)\n"
     ]
    },
    {
     "data": {
      "text/plain": "[tensor([[[[0.2863, 0.2784, 0.2745,  ..., 0.3059, 0.3098, 0.3098],\n           [0.2902, 0.2863, 0.2745,  ..., 0.3059, 0.3137, 0.3176],\n           [0.2980, 0.2863, 0.2745,  ..., 0.3098, 0.3137, 0.3176],\n           ...,\n           [0.3098, 0.2902, 0.2784,  ..., 0.3059, 0.3098, 0.3059],\n           [0.3216, 0.2941, 0.2863,  ..., 0.3137, 0.3137, 0.3020],\n           [0.3294, 0.2980, 0.2941,  ..., 0.3176, 0.3137, 0.2980]],\n \n          [[0.3686, 0.3725, 0.3765,  ..., 0.3686, 0.3725, 0.3725],\n           [0.3725, 0.3765, 0.3725,  ..., 0.3725, 0.3765, 0.3804],\n           [0.3765, 0.3725, 0.3686,  ..., 0.3765, 0.3804, 0.3843],\n           ...,\n           [0.3922, 0.3686, 0.3529,  ..., 0.3922, 0.3922, 0.3804],\n           [0.4039, 0.3804, 0.3647,  ..., 0.4000, 0.3922, 0.3765],\n           [0.4118, 0.3882, 0.3765,  ..., 0.4078, 0.3922, 0.3725]],\n \n          [[0.4627, 0.4667, 0.4667,  ..., 0.4706, 0.4745, 0.4745],\n           [0.4667, 0.4667, 0.4627,  ..., 0.4745, 0.4784, 0.4824],\n           [0.4745, 0.4667, 0.4627,  ..., 0.4784, 0.4824, 0.4863],\n           ...,\n           [0.5255, 0.4980, 0.4824,  ..., 0.5137, 0.5137, 0.5059],\n           [0.5412, 0.5098, 0.4941,  ..., 0.5216, 0.5176, 0.5020],\n           [0.5529, 0.5216, 0.5059,  ..., 0.5294, 0.5176, 0.4980]]],\n \n \n         [[[0.2549, 0.2588, 0.2627,  ..., 0.0078, 0.0039, 0.0000],\n           [0.2549, 0.2588, 0.2627,  ..., 0.0039, 0.0000, 0.0000],\n           [0.2627, 0.2667, 0.2706,  ..., 0.0078, 0.0039, 0.0000],\n           ...,\n           [0.2980, 0.2941, 0.2941,  ..., 0.0039, 0.0000, 0.0000],\n           [0.3059, 0.3020, 0.2980,  ..., 0.0039, 0.0000, 0.0000],\n           [0.3098, 0.3059, 0.3020,  ..., 0.0039, 0.0000, 0.0000]],\n \n          [[0.3843, 0.3882, 0.3922,  ..., 0.0039, 0.0039, 0.0039],\n           [0.3843, 0.3882, 0.3922,  ..., 0.0039, 0.0039, 0.0078],\n           [0.3804, 0.3843, 0.3882,  ..., 0.0039, 0.0039, 0.0078],\n           ...,\n           [0.3804, 0.3765, 0.3765,  ..., 0.0039, 0.0039, 0.0039],\n           [0.3804, 0.3765, 0.3765,  ..., 0.0039, 0.0039, 0.0039],\n           [0.3804, 0.3765, 0.3725,  ..., 0.0039, 0.0039, 0.0039]],\n \n          [[0.5216, 0.5255, 0.5294,  ..., 0.0078, 0.0000, 0.0039],\n           [0.5216, 0.5255, 0.5294,  ..., 0.0078, 0.0000, 0.0039],\n           [0.5216, 0.5255, 0.5294,  ..., 0.0078, 0.0000, 0.0039],\n           ...,\n           [0.4941, 0.4902, 0.4863,  ..., 0.0078, 0.0000, 0.0118],\n           [0.5059, 0.5020, 0.5020,  ..., 0.0078, 0.0000, 0.0118],\n           [0.5176, 0.5137, 0.5137,  ..., 0.0078, 0.0000, 0.0118]]],\n \n \n         [[[0.2588, 0.2588, 0.2627,  ..., 0.2784, 0.2784, 0.2745],\n           [0.2549, 0.2588, 0.2627,  ..., 0.2824, 0.2824, 0.2745],\n           [0.2510, 0.2549, 0.2627,  ..., 0.2824, 0.2863, 0.2784],\n           ...,\n           [0.2667, 0.2627, 0.2627,  ..., 0.3020, 0.2941, 0.2824],\n           [0.2745, 0.2667, 0.2667,  ..., 0.3098, 0.3020, 0.2863],\n           [0.2784, 0.2745, 0.2706,  ..., 0.3098, 0.3020, 0.2863]],\n \n          [[0.3725, 0.3686, 0.3569,  ..., 0.3843, 0.3843, 0.3922],\n           [0.3725, 0.3647, 0.3569,  ..., 0.3843, 0.3882, 0.3882],\n           [0.3686, 0.3608, 0.3569,  ..., 0.3843, 0.3882, 0.3882],\n           ...,\n           [0.3804, 0.3765, 0.3765,  ..., 0.3843, 0.3882, 0.3922],\n           [0.3882, 0.3804, 0.3804,  ..., 0.3843, 0.3922, 0.3922],\n           [0.3922, 0.3882, 0.3843,  ..., 0.3843, 0.3843, 0.3882]],\n \n          [[0.4863, 0.4784, 0.4784,  ..., 0.5137, 0.5255, 0.5333],\n           [0.4824, 0.4784, 0.4784,  ..., 0.5137, 0.5294, 0.5333],\n           [0.4784, 0.4745, 0.4745,  ..., 0.5137, 0.5294, 0.5333],\n           ...,\n           [0.4980, 0.4941, 0.4941,  ..., 0.4980, 0.4980, 0.4980],\n           [0.5059, 0.4980, 0.4980,  ..., 0.5020, 0.5020, 0.4980],\n           [0.5098, 0.5059, 0.5020,  ..., 0.5020, 0.4980, 0.4941]]],\n \n \n         ...,\n \n \n         [[[0.2941, 0.2980, 0.2941,  ..., 0.2706, 0.2784, 0.2745],\n           [0.2980, 0.2941, 0.2863,  ..., 0.2706, 0.2706, 0.2745],\n           [0.3020, 0.2941, 0.2824,  ..., 0.2667, 0.2667, 0.2706],\n           ...,\n           [0.2510, 0.2471, 0.2549,  ..., 0.2745, 0.2824, 0.2902],\n           [0.2510, 0.2431, 0.2510,  ..., 0.2706, 0.2745, 0.2784],\n           [0.2471, 0.2431, 0.2471,  ..., 0.2667, 0.2667, 0.2667]],\n \n          [[0.3725, 0.3725, 0.3765,  ..., 0.3294, 0.3412, 0.3608],\n           [0.3725, 0.3765, 0.3765,  ..., 0.3333, 0.3412, 0.3608],\n           [0.3765, 0.3765, 0.3765,  ..., 0.3294, 0.3373, 0.3569],\n           ...,\n           [0.3765, 0.3686, 0.3529,  ..., 0.3882, 0.3804, 0.3725],\n           [0.3765, 0.3647, 0.3490,  ..., 0.3922, 0.3843, 0.3804],\n           [0.3725, 0.3647, 0.3490,  ..., 0.3961, 0.3843, 0.3843]],\n \n          [[0.4863, 0.4902, 0.4941,  ..., 0.4353, 0.4588, 0.4824],\n           [0.4980, 0.5020, 0.4941,  ..., 0.4392, 0.4588, 0.4824],\n           [0.5059, 0.5059, 0.4941,  ..., 0.4353, 0.4549, 0.4784],\n           ...,\n           [0.4745, 0.4706, 0.4706,  ..., 0.5137, 0.5098, 0.5098],\n           [0.4745, 0.4667, 0.4627,  ..., 0.5216, 0.5176, 0.5176],\n           [0.4706, 0.4627, 0.4588,  ..., 0.5216, 0.5176, 0.5176]]],\n \n \n         [[[0.2627, 0.2471, 0.2353,  ..., 0.2627, 0.2549, 0.2588],\n           [0.2588, 0.2471, 0.2314,  ..., 0.2627, 0.2588, 0.2667],\n           [0.2627, 0.2510, 0.2392,  ..., 0.2588, 0.2588, 0.2627],\n           ...,\n           [0.3059, 0.2941, 0.2824,  ..., 0.2314, 0.2353, 0.2471],\n           [0.3059, 0.2941, 0.2824,  ..., 0.2353, 0.2392, 0.2471],\n           [0.3020, 0.2902, 0.2824,  ..., 0.2392, 0.2392, 0.2471]],\n \n          [[0.3294, 0.3255, 0.3255,  ..., 0.3255, 0.3176, 0.3216],\n           [0.3255, 0.3255, 0.3216,  ..., 0.3294, 0.3255, 0.3216],\n           [0.3373, 0.3333, 0.3294,  ..., 0.3412, 0.3333, 0.3294],\n           ...,\n           [0.3647, 0.3608, 0.3608,  ..., 0.3020, 0.3020, 0.3098],\n           [0.3569, 0.3529, 0.3569,  ..., 0.3059, 0.3059, 0.3098],\n           [0.3490, 0.3451, 0.3490,  ..., 0.3098, 0.3098, 0.3098]],\n \n          [[0.4275, 0.4118, 0.3961,  ..., 0.4275, 0.4196, 0.4235],\n           [0.4157, 0.4078, 0.4039,  ..., 0.4314, 0.4275, 0.4275],\n           [0.4235, 0.4196, 0.4157,  ..., 0.4392, 0.4353, 0.4314],\n           ...,\n           [0.4784, 0.4706, 0.4667,  ..., 0.3961, 0.3961, 0.4118],\n           [0.4745, 0.4667, 0.4627,  ..., 0.4000, 0.4000, 0.4118],\n           [0.4627, 0.4588, 0.4588,  ..., 0.4039, 0.4000, 0.4118]]],\n \n \n         [[[0.2627, 0.2745, 0.2824,  ..., 0.2627, 0.2706, 0.2706],\n           [0.2627, 0.2745, 0.2824,  ..., 0.2627, 0.2706, 0.2706],\n           [0.2627, 0.2745, 0.2824,  ..., 0.2706, 0.2706, 0.2706],\n           ...,\n           [0.2902, 0.2863, 0.2784,  ..., 0.2588, 0.2549, 0.2471],\n           [0.2824, 0.2784, 0.2706,  ..., 0.2588, 0.2549, 0.2471],\n           [0.2745, 0.2706, 0.2588,  ..., 0.2549, 0.2510, 0.2510]],\n \n          [[0.3569, 0.3608, 0.3608,  ..., 0.3294, 0.3373, 0.3412],\n           [0.3569, 0.3608, 0.3608,  ..., 0.3294, 0.3373, 0.3412],\n           [0.3569, 0.3608, 0.3608,  ..., 0.3373, 0.3373, 0.3412],\n           ...,\n           [0.3294, 0.3333, 0.3333,  ..., 0.3059, 0.3020, 0.2941],\n           [0.3216, 0.3255, 0.3255,  ..., 0.3098, 0.3020, 0.2980],\n           [0.3216, 0.3216, 0.3176,  ..., 0.3098, 0.3059, 0.3059]],\n \n          [[0.4667, 0.4706, 0.4745,  ..., 0.4392, 0.4431, 0.4353],\n           [0.4667, 0.4706, 0.4745,  ..., 0.4392, 0.4431, 0.4353],\n           [0.4627, 0.4667, 0.4706,  ..., 0.4471, 0.4431, 0.4353],\n           ...,\n           [0.4353, 0.4353, 0.4353,  ..., 0.4078, 0.4000, 0.3843],\n           [0.4275, 0.4275, 0.4275,  ..., 0.4039, 0.3961, 0.3843],\n           [0.4275, 0.4275, 0.4196,  ..., 0.4039, 0.3961, 0.3882]]]]),\n tensor([[[[0.4235, 0.4824, 0.5373,  ..., 0.5216, 0.5529, 0.5176],\n           [0.4627, 0.4667, 0.4667,  ..., 0.4902, 0.5373, 0.5373],\n           [0.5333, 0.4863, 0.4667,  ..., 0.5529, 0.5412, 0.5686],\n           ...,\n           [0.4196, 0.4353, 0.4275,  ..., 0.4235, 0.4000, 0.4157],\n           [0.4078, 0.4196, 0.3843,  ..., 0.4275, 0.4275, 0.4431],\n           [0.5098, 0.4235, 0.3882,  ..., 0.4235, 0.4353, 0.4510]],\n \n          [[0.4196, 0.4784, 0.5333,  ..., 0.5176, 0.5490, 0.5137],\n           [0.4588, 0.4627, 0.4627,  ..., 0.4863, 0.5333, 0.5333],\n           [0.5294, 0.4824, 0.4627,  ..., 0.5490, 0.5373, 0.5647],\n           ...,\n           [0.4039, 0.4196, 0.4118,  ..., 0.4078, 0.3843, 0.4000],\n           [0.3922, 0.4039, 0.3686,  ..., 0.4118, 0.4118, 0.4275],\n           [0.4941, 0.4078, 0.3725,  ..., 0.4078, 0.4196, 0.4353]],\n \n          [[0.4392, 0.4980, 0.5529,  ..., 0.5412, 0.5725, 0.5373],\n           [0.4784, 0.4824, 0.4824,  ..., 0.5098, 0.5569, 0.5569],\n           [0.5490, 0.5020, 0.4824,  ..., 0.5686, 0.5608, 0.5843],\n           ...,\n           [0.4078, 0.4235, 0.4157,  ..., 0.4118, 0.3882, 0.4039],\n           [0.3961, 0.4078, 0.3725,  ..., 0.4157, 0.4157, 0.4314],\n           [0.4980, 0.4118, 0.3765,  ..., 0.4118, 0.4235, 0.4392]]],\n \n \n         [[[0.3020, 0.3059, 0.3059,  ..., 0.3098, 0.3137, 0.3294],\n           [0.3059, 0.3059, 0.3059,  ..., 0.3098, 0.3137, 0.3294],\n           [0.3020, 0.3059, 0.2980,  ..., 0.3137, 0.3137, 0.3294],\n           ...,\n           [0.2784, 0.2784, 0.2863,  ..., 0.3098, 0.3137, 0.3098],\n           [0.2784, 0.2863, 0.2902,  ..., 0.3216, 0.3255, 0.3176],\n           [0.2902, 0.2902, 0.2941,  ..., 0.3294, 0.3333, 0.3255]],\n \n          [[0.4039, 0.4078, 0.4078,  ..., 0.4039, 0.3922, 0.4039],\n           [0.4078, 0.4078, 0.4118,  ..., 0.4039, 0.4000, 0.4039],\n           [0.4078, 0.4157, 0.4078,  ..., 0.4118, 0.4039, 0.4078],\n           ...,\n           [0.3765, 0.3725, 0.3686,  ..., 0.4235, 0.4235, 0.4196],\n           [0.3765, 0.3804, 0.3725,  ..., 0.4275, 0.4314, 0.4235],\n           [0.3882, 0.3843, 0.3765,  ..., 0.4275, 0.4353, 0.4275]],\n \n          [[0.5490, 0.5529, 0.5529,  ..., 0.5294, 0.5373, 0.5569],\n           [0.5529, 0.5529, 0.5569,  ..., 0.5333, 0.5412, 0.5569],\n           [0.5529, 0.5608, 0.5529,  ..., 0.5490, 0.5451, 0.5569],\n           ...,\n           [0.4980, 0.4941, 0.4980,  ..., 0.5412, 0.5412, 0.5373],\n           [0.4980, 0.5059, 0.4980,  ..., 0.5451, 0.5490, 0.5412],\n           [0.5098, 0.5059, 0.5020,  ..., 0.5490, 0.5569, 0.5490]]],\n \n \n         [[[0.3529, 0.3843, 0.4157,  ..., 0.3020, 0.3216, 0.3098],\n           [0.3529, 0.3765, 0.4078,  ..., 0.3059, 0.3216, 0.3137],\n           [0.3647, 0.3725, 0.3843,  ..., 0.3176, 0.3176, 0.3176],\n           ...,\n           [0.3490, 0.3216, 0.3490,  ..., 0.3686, 0.3569, 0.3333],\n           [0.3412, 0.3255, 0.3451,  ..., 0.3686, 0.3529, 0.3333],\n           [0.3255, 0.3176, 0.3294,  ..., 0.3686, 0.3490, 0.3333]],\n \n          [[0.4706, 0.4902, 0.5216,  ..., 0.4078, 0.4235, 0.4235],\n           [0.4745, 0.4863, 0.5176,  ..., 0.4118, 0.4196, 0.4157],\n           [0.4941, 0.4902, 0.5020,  ..., 0.4235, 0.4157, 0.4078],\n           ...,\n           [0.4510, 0.4314, 0.4549,  ..., 0.4706, 0.4627, 0.4510],\n           [0.4431, 0.4353, 0.4510,  ..., 0.4745, 0.4588, 0.4510],\n           [0.4275, 0.4314, 0.4353,  ..., 0.4706, 0.4588, 0.4549]],\n \n          [[0.5961, 0.6196, 0.6510,  ..., 0.5294, 0.5529, 0.5490],\n           [0.5961, 0.6118, 0.6431,  ..., 0.5373, 0.5490, 0.5451],\n           [0.6157, 0.6157, 0.6275,  ..., 0.5529, 0.5451, 0.5412],\n           ...,\n           [0.5686, 0.5490, 0.5725,  ..., 0.5922, 0.5922, 0.5765],\n           [0.5647, 0.5529, 0.5686,  ..., 0.5961, 0.5882, 0.5725],\n           [0.5490, 0.5490, 0.5529,  ..., 0.5922, 0.5843, 0.5765]]],\n \n \n         ...,\n \n \n         [[[0.2353, 0.2392, 0.2392,  ..., 0.2549, 0.2549, 0.2667],\n           [0.2392, 0.2392, 0.2392,  ..., 0.2549, 0.2588, 0.2667],\n           [0.2392, 0.2353, 0.2392,  ..., 0.2549, 0.2627, 0.2667],\n           ...,\n           [0.2667, 0.2706, 0.2784,  ..., 0.2745, 0.2706, 0.2706],\n           [0.2706, 0.2824, 0.2824,  ..., 0.2745, 0.2784, 0.2667],\n           [0.2745, 0.2863, 0.2784,  ..., 0.2784, 0.2824, 0.2627]],\n \n          [[0.3098, 0.3137, 0.3137,  ..., 0.3490, 0.3529, 0.3647],\n           [0.3137, 0.3137, 0.3137,  ..., 0.3490, 0.3569, 0.3647],\n           [0.3176, 0.3176, 0.3176,  ..., 0.3529, 0.3647, 0.3686],\n           ...,\n           [0.3843, 0.3882, 0.3922,  ..., 0.3961, 0.4039, 0.4157],\n           [0.3882, 0.4000, 0.3961,  ..., 0.3961, 0.4118, 0.4118],\n           [0.3922, 0.4039, 0.3961,  ..., 0.4000, 0.4157, 0.4078]],\n \n          [[0.4353, 0.4392, 0.4392,  ..., 0.4980, 0.5098, 0.5216],\n           [0.4392, 0.4392, 0.4392,  ..., 0.4980, 0.5098, 0.5216],\n           [0.4431, 0.4392, 0.4392,  ..., 0.4941, 0.5098, 0.5137],\n           ...,\n           [0.5333, 0.5373, 0.5412,  ..., 0.5451, 0.5490, 0.5569],\n           [0.5373, 0.5490, 0.5451,  ..., 0.5451, 0.5569, 0.5529],\n           [0.5412, 0.5529, 0.5451,  ..., 0.5490, 0.5608, 0.5490]]],\n \n \n         [[[0.4118, 0.4196, 0.4157,  ..., 0.2941, 0.0118, 0.0000],\n           [0.4078, 0.4157, 0.4196,  ..., 0.2902, 0.0157, 0.0000],\n           [0.4078, 0.4196, 0.4353,  ..., 0.2784, 0.0157, 0.0000],\n           ...,\n           [0.4078, 0.4078, 0.4078,  ..., 0.2549, 0.0157, 0.0000],\n           [0.4039, 0.4039, 0.4078,  ..., 0.2549, 0.0157, 0.0000],\n           [0.4000, 0.4000, 0.4039,  ..., 0.2588, 0.0157, 0.0000]],\n \n          [[0.4039, 0.4118, 0.4078,  ..., 0.2863, 0.0118, 0.0039],\n           [0.4000, 0.4078, 0.4118,  ..., 0.2824, 0.0157, 0.0039],\n           [0.4000, 0.4118, 0.4275,  ..., 0.2706, 0.0157, 0.0039],\n           ...,\n           [0.3922, 0.3922, 0.3922,  ..., 0.2392, 0.0118, 0.0000],\n           [0.3961, 0.3922, 0.3922,  ..., 0.2392, 0.0118, 0.0000],\n           [0.3961, 0.3922, 0.3882,  ..., 0.2431, 0.0118, 0.0000]],\n \n          [[0.4078, 0.4157, 0.4118,  ..., 0.2902, 0.0118, 0.0000],\n           [0.4039, 0.4118, 0.4157,  ..., 0.2863, 0.0118, 0.0000],\n           [0.4039, 0.4157, 0.4314,  ..., 0.2745, 0.0118, 0.0000],\n           ...,\n           [0.3961, 0.3961, 0.3961,  ..., 0.2431, 0.0118, 0.0000],\n           [0.4000, 0.3961, 0.3961,  ..., 0.2431, 0.0118, 0.0000],\n           [0.3961, 0.3961, 0.3922,  ..., 0.2471, 0.0118, 0.0000]]],\n \n \n         [[[0.5765, 0.5843, 0.5882,  ..., 0.5569, 0.5804, 0.5922],\n           [0.5725, 0.5804, 0.5843,  ..., 0.5686, 0.5882, 0.6000],\n           [0.5725, 0.5804, 0.5843,  ..., 0.5608, 0.5843, 0.5843],\n           ...,\n           [0.4706, 0.4706, 0.4745,  ..., 0.5451, 0.5922, 0.6235],\n           [0.4706, 0.4706, 0.4745,  ..., 0.5020, 0.5765, 0.6235],\n           [0.4706, 0.4706, 0.4745,  ..., 0.4706, 0.5765, 0.6196]],\n \n          [[0.5765, 0.5843, 0.5882,  ..., 0.5569, 0.5882, 0.6000],\n           [0.5725, 0.5804, 0.5843,  ..., 0.5686, 0.5961, 0.6078],\n           [0.5725, 0.5804, 0.5843,  ..., 0.5647, 0.5922, 0.5922],\n           ...,\n           [0.4706, 0.4706, 0.4745,  ..., 0.5216, 0.5804, 0.6078],\n           [0.4706, 0.4706, 0.4745,  ..., 0.4824, 0.5647, 0.6078],\n           [0.4706, 0.4706, 0.4745,  ..., 0.4510, 0.5608, 0.6039]],\n \n          [[0.5765, 0.5843, 0.5882,  ..., 0.5569, 0.5843, 0.5961],\n           [0.5725, 0.5804, 0.5843,  ..., 0.5686, 0.5922, 0.6039],\n           [0.5725, 0.5804, 0.5843,  ..., 0.5647, 0.5882, 0.5882],\n           ...,\n           [0.4706, 0.4706, 0.4745,  ..., 0.5216, 0.5569, 0.5804],\n           [0.4706, 0.4706, 0.4745,  ..., 0.4824, 0.5412, 0.5804],\n           [0.4706, 0.4706, 0.4745,  ..., 0.4510, 0.5373, 0.5765]]]]),\n tensor([[1.],\n         [0.],\n         [0.],\n         [0.],\n         [0.],\n         [1.],\n         [0.],\n         [1.],\n         [1.],\n         [0.],\n         [1.],\n         [1.],\n         [0.],\n         [0.],\n         [0.],\n         [0.],\n         [0.],\n         [0.],\n         [0.],\n         [1.],\n         [0.],\n         [1.],\n         [1.],\n         [0.],\n         [0.],\n         [0.],\n         [1.],\n         [1.],\n         [1.],\n         [0.],\n         [0.],\n         [0.],\n         [1.],\n         [1.],\n         [1.],\n         [0.],\n         [0.],\n         [0.],\n         [0.],\n         [1.],\n         [0.],\n         [1.],\n         [0.],\n         [1.],\n         [0.],\n         [0.],\n         [1.],\n         [1.],\n         [0.],\n         [0.],\n         [1.],\n         [0.],\n         [0.],\n         [1.],\n         [0.],\n         [0.],\n         [0.],\n         [0.],\n         [1.],\n         [0.],\n         [1.],\n         [1.],\n         [1.],\n         [1.],\n         [0.],\n         [1.],\n         [1.],\n         [1.],\n         [0.],\n         [1.],\n         [1.],\n         [0.],\n         [1.],\n         [0.],\n         [1.],\n         [0.],\n         [1.],\n         [0.],\n         [1.],\n         [1.],\n         [1.],\n         [1.],\n         [0.],\n         [0.],\n         [0.],\n         [1.],\n         [0.],\n         [1.],\n         [1.],\n         [0.],\n         [1.],\n         [1.],\n         [1.],\n         [0.],\n         [0.],\n         [1.],\n         [1.],\n         [0.],\n         [0.],\n         [1.],\n         [0.],\n         [1.],\n         [0.],\n         [1.],\n         [0.],\n         [1.],\n         [0.],\n         [1.],\n         [0.],\n         [1.],\n         [0.],\n         [1.],\n         [1.],\n         [0.],\n         [1.],\n         [1.],\n         [0.],\n         [0.],\n         [1.],\n         [1.],\n         [0.],\n         [1.],\n         [1.],\n         [1.],\n         [1.],\n         [1.],\n         [0.],\n         [0.]]),\n tensor([0, 0, 0, 0, 0, 0, 0, 0, 0, 0, 0, 0, 0, 0, 0, 0, 0, 0, 0, 0, 0, 0, 0, 0,\n         0, 0, 0, 0, 0, 0, 0, 0, 0, 0, 0, 0, 0, 0, 0, 0, 0, 0, 0, 0, 0, 0, 0, 0,\n         0, 0, 0, 0, 0, 0, 0, 0, 0, 0, 0, 0, 0, 0, 0, 0, 0, 0, 0, 0, 0, 0, 0, 0,\n         0, 0, 0, 0, 0, 0, 0, 0, 0, 0, 0, 0, 0, 0, 0, 0, 0, 0, 0, 0, 0, 0, 0, 0,\n         0, 0, 0, 0, 0, 0, 0, 0, 0, 0, 0, 0, 0, 0, 0, 0, 0, 0, 0, 0, 0, 0, 0, 0,\n         0, 0, 0, 0, 0, 0, 0, 0])]"
     },
     "execution_count": 10,
     "metadata": {},
     "output_type": "execute_result"
    }
   ],
   "source": [
    "next(iter(testloader))"
   ],
   "metadata": {
    "collapsed": false,
    "pycharm": {
     "name": "#%%\n"
    }
   }
  },
  {
   "cell_type": "code",
   "execution_count": 11,
   "outputs": [],
   "source": [
    "\n",
    "\n",
    "class SiameseNetwork(nn.Module):\n",
    "    def __init__(self, backbone=\"resnet18\"):\n",
    "        '''\n",
    "        Creates a siamese network with a network from torchvision.models as backbone.\n",
    "            Parameters:\n",
    "                    backbone (str): Options of the backbone networks can be found at https://pytorch.org/vision/stable/models.html\n",
    "        '''\n",
    "\n",
    "        super().__init__()\n",
    "\n",
    "        if backbone not in models.__dict__:\n",
    "            raise Exception(\"No model named {} exists in torchvision.models.\".format(backbone))\n",
    "\n",
    "        # Create a backbone network from the pretrained models provided in torchvision.models\n",
    "        self.backbone = models.__dict__[backbone](pretrained=True, progress=False, )\n",
    "\n",
    "        # Create a cls head for binary crosentropy\n",
    "        # we experimented with different layer sizes and number of layers\n",
    "\n",
    "        self.cls_head = nn.Sequential(\n",
    "            nn.Dropout(0.3),\n",
    "            nn.Linear(2000, 512),\n",
    "            nn.ReLU(),\n",
    "            nn.Dropout(0.5),\n",
    "            nn.Linear(512, 64),\n",
    "            nn.ReLU(),\n",
    "            nn.Dropout(0.3),\n",
    "            nn.Linear(64, 1),\n",
    "            nn.Sigmoid(),\n",
    "        )\n",
    "\n",
    "    def forward(self, img1, img2):\n",
    "        '''\n",
    "        Returns the similarity value between two images.\n",
    "            Parameters:\n",
    "                    img1 (torch.Tensor): shape=[b, 3, 224, 224]\n",
    "                    img2 (torch.Tensor): shape=[b, 3, 224, 224]\n",
    "            where b = batch size\n",
    "            Returns:\n",
    "                    output (torch.Tensor): shape=[b, 1], Similarity of each pair of images\n",
    "        '''\n",
    "\n",
    "        # Pass the both images through the backbone network to get their seperate feature vectors\n",
    "        feat1 = self.backbone(img1)\n",
    "        feat2 = self.backbone(img2)\n",
    "\n",
    "        # Multiply (element-wise) the feature vectors of the two images together,\n",
    "        # to generate a combined feature vector representing the similarity between the two.\n",
    "        #combined_features = feat1 * feat2\n",
    "        combined_features = torch.cat((feat1, feat2), 1)\n",
    "        # Pass the combined feature vector through classification head to get similarity value in the range of 0 to 1.\n",
    "        output = self.cls_head(combined_features)\n",
    "        return output"
   ],
   "metadata": {
    "collapsed": false,
    "pycharm": {
     "name": "#%%\n"
    }
   }
  },
  {
   "cell_type": "code",
   "execution_count": null,
   "outputs": [],
   "source": [
    "\n",
    "device = torch.device('cuda' if torch.cuda.is_available() else 'cpu')\n",
    "model = SiameseNetwork()\n",
    "model.to(device)\n",
    "\n",
    "optimizer = torch.optim.Adam(model.parameters(), lr=0.0005)\n",
    "criterion = nn.BCELoss()\n",
    "\n",
    "\n",
    "for epoch in range(300):\n",
    "    print(\"[{} / {}]\".format(epoch, 300))\n",
    "    model.train()\n",
    "\n",
    "    losses = []\n",
    "    correct = 0\n",
    "    total = 0\n",
    "    preds_tr = []\n",
    "    gt_tr = []\n",
    "    # Training Loop Start\n",
    "    model.train()\n",
    "    for img1, img2, y, _ in trainloader:\n",
    "        img1, img2, y = map(lambda x: x.to(device), [img1, img2, y])\n",
    "        prob = model(img1, img2)\n",
    "        loss = criterion(prob, y)\n",
    "\n",
    "        optimizer.zero_grad()\n",
    "        loss.backward()\n",
    "        optimizer.step()\n",
    "        losses.append(loss.item())\n",
    "        # convert the similarity scores to binary values to evaluate\n",
    "        flattened_list = [item for sublist in prob.tolist() for item in (sublist if isinstance(sublist, list) else [sublist])]\n",
    "        flatt = [0 if i < 0.5 else 1 for i in flattened_list]\n",
    "        preds_tr.extend(flatt)\n",
    "        flattened_list = [item for sublist in y.tolist() for item in (sublist if isinstance(sublist, list) else [sublist])]\n",
    "        gt_tr.extend(flattened_list)\n",
    "\n",
    "\n",
    "    print(\"\\tTraining: Loss={:.2f}\\t \".format(np.mean(losses)))\n",
    "    print(classification_report(gt_tr, preds_tr))\n",
    "    # Training Loop End\n",
    "    # Start evaluation\n",
    "    model.eval()\n",
    "\n",
    "    correct = 0\n",
    "    total = 0\n",
    "    preds = []\n",
    "    gt = []\n",
    "    all_loss = []\n",
    "    for k in range(3):\n",
    "        for img1, img2, y, cls in testloader:\n",
    "\n",
    "            img1, img2, y = map(lambda x: x.to(device), [img1, img2, y])\n",
    "            prob = model(img1, img2)\n",
    "            all_loss.append(criterion(prob, y).item())\n",
    "            # convert the similarity scores to binary values to evaluate\n",
    "            flattened_list = [item for sublist in prob.tolist() for item in (sublist if isinstance(sublist, list) else [sublist])]\n",
    "            flatt = [0 if i < 0.5 else 1 for i in flattened_list]\n",
    "            preds.extend(flatt)\n",
    "            flattened_list = [item for sublist in y.tolist() for item in (sublist if isinstance(sublist, list) else [sublist])]\n",
    "            gt.extend(flattened_list)\n",
    "\n",
    "    l = np.mean(all_loss)\n",
    "    print(f\"val loss: {l}\")\n",
    "    print(classification_report(gt, preds))\n",
    "    # Evaluation Loop Start\n",
    "    f = f1_score(gt, preds, average='macro')\n",
    "\n",
    "\n",
    "\n",
    "    # Save model based on the frequency defined by \"args.save_after\"\n",
    "    if (epoch + 1) % 1 == 0:\n",
    "        torch.save(\n",
    "            {\n",
    "                \"epoch\": epoch + 1,\n",
    "                \"model_state_dict\": model.state_dict(),\n",
    "                \"backbone\": \"resnet-18\",\n",
    "                \"optimizer_state_dict\": optimizer.state_dict()\n",
    "            },\n",
    "            os.path.join(\"siamese\",\"models_new\", \"epoch_{}_{}.pth\".format(epoch + 1, f))\n",
    "        )"
   ],
   "metadata": {
    "collapsed": false,
    "pycharm": {
     "name": "#%%\n",
     "is_executing": true
    }
   }
  },
  {
   "cell_type": "code",
   "execution_count": null,
   "outputs": [],
   "source": [
    "# run the training with multiple anchor images for evaluation\n",
    "\n",
    "device = torch.device('cuda' if torch.cuda.is_available() else 'cpu')\n",
    "model = SiameseNetwork()\n",
    "model.to(device)\n",
    "\n",
    "optimizer = torch.optim.Adam(model.parameters(), lr=0.0005)\n",
    "criterion = nn.BCELoss()\n",
    "\n",
    "\n",
    "for epoch in range(70):\n",
    "    print(\"[{} / {}]\".format(epoch, 70))\n",
    "    model.train()\n",
    "\n",
    "    losses = []\n",
    "    correct = 0\n",
    "    total = 0\n",
    "    preds_tr = []\n",
    "    gt_tr = []\n",
    "    # Training Loop Start\n",
    "    for img1, img2, y, _ in trainloader:\n",
    "        img1, img2, y = map(lambda x: x.to(device), [img1, img2, y])\n",
    "        prob = model(img1, img2)\n",
    "        loss = criterion(prob, y)\n",
    "\n",
    "        optimizer.zero_grad()\n",
    "        loss.backward()\n",
    "        optimizer.step()\n",
    "        losses.append(loss.item())\n",
    "        flattened_list = [item for sublist in prob.tolist() for item in (sublist if isinstance(sublist, list) else [sublist])]\n",
    "        flatt = [0 if i < 0.5 else 1 for i in flattened_list]\n",
    "        preds_tr.extend(flatt)\n",
    "        flattened_list = [item for sublist in y.tolist() for item in (sublist if isinstance(sublist, list) else [sublist])]\n",
    "        gt_tr.extend(flattened_list)\n",
    "\n",
    "\n",
    "    print(\"\\tTraining: Loss={:.2f}\\t \".format(np.mean(losses)))\n",
    "    print(classification_report(gt_tr, preds_tr))\n",
    "    # Training Loop End\n",
    "    correct = 0\n",
    "    total = 0\n",
    "    preds = []\n",
    "    gt = []\n",
    "    model.eval()\n",
    "    # since there is a 50% chance to get a correct pair and 50% for a false pair we repeated the evaluation step 3 times to get a positive and negative pair\n",
    "    for k in range(3):\n",
    "        for img1, img2, y, cls in testloader:\n",
    "\n",
    "\n",
    "            for ind in range(len(img1)):\n",
    "                folder = r\"D:\\PycharmProjects\\AISS\\siamese\\dataset_true\"\n",
    "                cl = cls[ind]\n",
    "                img = img1[ind].cuda()\n",
    "                img_ = img2[ind].cuda()\n",
    "                y_ = y[ind]\n",
    "                img = img[None, :]\n",
    "                img_ = img_[None, :]\n",
    "                # get the anchor images for the stage\n",
    "                if cl == 0:\n",
    "                    folder = folder + r\"\\0\"\n",
    "                    reference_imgs = [os.path.join(folder, \"anchor0_1.jpg\"), os.path.join(folder, \"anchor0_2.jpg\"), os.path.join(folder, \"anchor0_3.jpg\"), os.path.join(folder, \"anchor0_4.jpg\"), os.path.join(folder, \"anchor0_5.jpg\"), os.path.join(folder, \"anchor0_6.jpg\")]\n",
    "\n",
    "                elif cl == 1:\n",
    "                    folder = folder + r\"\\1\"\n",
    "                    reference_imgs = [os.path.join(folder, \"anchor1_1.jpg\"), os.path.join(folder, \"anchor1_2.jpg\"), os.path.join(folder, \"anchor1_3.jpg\"), os.path.join(folder, \"anchor1_4.jpg\"), os.path.join(folder, \"anchor1_5.jpg\"), os.path.join(folder, \"anchor1_6.jpg\")]\n",
    "\n",
    "                elif cl == 2:\n",
    "                    folder = folder + r\"\\2\"\n",
    "                    reference_imgs = [os.path.join(folder, \"anchor2_1.jpg\"), os.path.join(folder, \"anchor2_2.jpg\"), os.path.join(folder, \"anchor2_3.jpg\"), os.path.join(folder, \"anchor2_4.jpg\"), os.path.join(folder, \"anchor2_5.jpg\"), os.path.join(folder, \"anchor2_6.jpg\")]\n",
    "\n",
    "                elif cl == 3:\n",
    "                    folder = folder + r\"\\3\"\n",
    "                    reference_imgs = [os.path.join(folder, \"anchor3_1.jpg\"), os.path.join(folder, \"anchor3_2.jpg\"), os.path.join(folder, \"anchor3_3.jpg\"), os.path.join(folder, \"anchor3_4.jpg\"), os.path.join(folder, \"anchor3_5.jpg\"), os.path.join(folder, \"anchor3_6.jpg\")]\n",
    "                #reference_imgs = [os.path.join(folder, d) for d in os.listdir(folder)][:10]\n",
    "                all_results_1 = []\n",
    "                all_results_2 = []\n",
    "                # get similarity for each anchor img in the stage\n",
    "                for im in reference_imgs:\n",
    "                    img__ = PIL.Image.open(im)\n",
    "                    width, height = img__.size\n",
    "                    if width > height:\n",
    "                        img__ = img__.transpose(Image.TRANSPOSE)\n",
    "                    transform = transforms.Compose([transforms.Resize((150, 50)),transforms.ToTensor()])\n",
    "                    img__ = transform(img__).cuda()\n",
    "                    img__ = img__[None, :]\n",
    "                    prob_test = model(img, img__)\n",
    "                    all_results_1.append(prob_test[0].item())\n",
    "                    prob_test = model(img_, img__)\n",
    "                    all_results_2.append(prob_test[0].item())\n",
    "\n",
    "                all_results_1 = np.mean(all_results_1)\n",
    "                all_results_2 = np.mean(all_results_2)\n",
    "                if all_results_1 < 0.5:\n",
    "                    preds.append(0)\n",
    "                else:\n",
    "                    preds.append(1)\n",
    "                gt.append(1)\n",
    "\n",
    "                if all_results_2 < 0.5:\n",
    "                    preds.append(0)\n",
    "                else:\n",
    "                    preds.append(1)\n",
    "\n",
    "                gt.append(y_.item())\n",
    "\n",
    "\n",
    "    print(classification_report(gt, preds))\n",
    "    f = f1_score(gt, preds, average='macro')\n",
    "\n",
    "\n",
    "    # Save model\n",
    "    if (epoch + 1) % 1 == 0:\n",
    "        torch.save(\n",
    "            {\n",
    "                \"epoch\": epoch + 1,\n",
    "                \"model_state_dict\": model.state_dict(),\n",
    "                \"backbone\": \"resnet-18\",\n",
    "                \"optimizer_state_dict\": optimizer.state_dict()\n",
    "            },\n",
    "            os.path.join(\"siamese\",\"models\", \"epoch_{}_{}.pth\".format(epoch + 1, f))\n",
    "        )"
   ],
   "metadata": {
    "collapsed": false,
    "pycharm": {
     "name": "#%%\n",
     "is_executing": true
    }
   }
  },
  {
   "cell_type": "code",
   "execution_count": 110,
   "outputs": [
    {
     "name": "stderr",
     "output_type": "stream",
     "text": [
      "D:\\Python\\lib\\site-packages\\torchvision\\models\\_utils.py:208: UserWarning: The parameter 'pretrained' is deprecated since 0.13 and will be removed in 0.15, please use 'weights' instead.\n",
      "  warnings.warn(\n",
      "D:\\Python\\lib\\site-packages\\torchvision\\models\\_utils.py:223: UserWarning: Arguments other than a weight enum or `None` for 'weights' are deprecated since 0.13 and will be removed in 0.15. The current behavior is equivalent to passing `weights=ResNet34_Weights.IMAGENET1K_V1`. You can also use `weights=ResNet34_Weights.DEFAULT` to get the most up-to-date weights.\n",
      "  warnings.warn(msg)\n"
     ]
    },
    {
     "data": {
      "text/plain": "SiameseNetwork(\n  (backbone): ResNet(\n    (conv1): Conv2d(3, 64, kernel_size=(7, 7), stride=(2, 2), padding=(3, 3), bias=False)\n    (bn1): BatchNorm2d(64, eps=1e-05, momentum=0.1, affine=True, track_running_stats=True)\n    (relu): ReLU(inplace=True)\n    (maxpool): MaxPool2d(kernel_size=3, stride=2, padding=1, dilation=1, ceil_mode=False)\n    (layer1): Sequential(\n      (0): BasicBlock(\n        (conv1): Conv2d(64, 64, kernel_size=(3, 3), stride=(1, 1), padding=(1, 1), bias=False)\n        (bn1): BatchNorm2d(64, eps=1e-05, momentum=0.1, affine=True, track_running_stats=True)\n        (relu): ReLU(inplace=True)\n        (conv2): Conv2d(64, 64, kernel_size=(3, 3), stride=(1, 1), padding=(1, 1), bias=False)\n        (bn2): BatchNorm2d(64, eps=1e-05, momentum=0.1, affine=True, track_running_stats=True)\n      )\n      (1): BasicBlock(\n        (conv1): Conv2d(64, 64, kernel_size=(3, 3), stride=(1, 1), padding=(1, 1), bias=False)\n        (bn1): BatchNorm2d(64, eps=1e-05, momentum=0.1, affine=True, track_running_stats=True)\n        (relu): ReLU(inplace=True)\n        (conv2): Conv2d(64, 64, kernel_size=(3, 3), stride=(1, 1), padding=(1, 1), bias=False)\n        (bn2): BatchNorm2d(64, eps=1e-05, momentum=0.1, affine=True, track_running_stats=True)\n      )\n      (2): BasicBlock(\n        (conv1): Conv2d(64, 64, kernel_size=(3, 3), stride=(1, 1), padding=(1, 1), bias=False)\n        (bn1): BatchNorm2d(64, eps=1e-05, momentum=0.1, affine=True, track_running_stats=True)\n        (relu): ReLU(inplace=True)\n        (conv2): Conv2d(64, 64, kernel_size=(3, 3), stride=(1, 1), padding=(1, 1), bias=False)\n        (bn2): BatchNorm2d(64, eps=1e-05, momentum=0.1, affine=True, track_running_stats=True)\n      )\n    )\n    (layer2): Sequential(\n      (0): BasicBlock(\n        (conv1): Conv2d(64, 128, kernel_size=(3, 3), stride=(2, 2), padding=(1, 1), bias=False)\n        (bn1): BatchNorm2d(128, eps=1e-05, momentum=0.1, affine=True, track_running_stats=True)\n        (relu): ReLU(inplace=True)\n        (conv2): Conv2d(128, 128, kernel_size=(3, 3), stride=(1, 1), padding=(1, 1), bias=False)\n        (bn2): BatchNorm2d(128, eps=1e-05, momentum=0.1, affine=True, track_running_stats=True)\n        (downsample): Sequential(\n          (0): Conv2d(64, 128, kernel_size=(1, 1), stride=(2, 2), bias=False)\n          (1): BatchNorm2d(128, eps=1e-05, momentum=0.1, affine=True, track_running_stats=True)\n        )\n      )\n      (1): BasicBlock(\n        (conv1): Conv2d(128, 128, kernel_size=(3, 3), stride=(1, 1), padding=(1, 1), bias=False)\n        (bn1): BatchNorm2d(128, eps=1e-05, momentum=0.1, affine=True, track_running_stats=True)\n        (relu): ReLU(inplace=True)\n        (conv2): Conv2d(128, 128, kernel_size=(3, 3), stride=(1, 1), padding=(1, 1), bias=False)\n        (bn2): BatchNorm2d(128, eps=1e-05, momentum=0.1, affine=True, track_running_stats=True)\n      )\n      (2): BasicBlock(\n        (conv1): Conv2d(128, 128, kernel_size=(3, 3), stride=(1, 1), padding=(1, 1), bias=False)\n        (bn1): BatchNorm2d(128, eps=1e-05, momentum=0.1, affine=True, track_running_stats=True)\n        (relu): ReLU(inplace=True)\n        (conv2): Conv2d(128, 128, kernel_size=(3, 3), stride=(1, 1), padding=(1, 1), bias=False)\n        (bn2): BatchNorm2d(128, eps=1e-05, momentum=0.1, affine=True, track_running_stats=True)\n      )\n      (3): BasicBlock(\n        (conv1): Conv2d(128, 128, kernel_size=(3, 3), stride=(1, 1), padding=(1, 1), bias=False)\n        (bn1): BatchNorm2d(128, eps=1e-05, momentum=0.1, affine=True, track_running_stats=True)\n        (relu): ReLU(inplace=True)\n        (conv2): Conv2d(128, 128, kernel_size=(3, 3), stride=(1, 1), padding=(1, 1), bias=False)\n        (bn2): BatchNorm2d(128, eps=1e-05, momentum=0.1, affine=True, track_running_stats=True)\n      )\n    )\n    (layer3): Sequential(\n      (0): BasicBlock(\n        (conv1): Conv2d(128, 256, kernel_size=(3, 3), stride=(2, 2), padding=(1, 1), bias=False)\n        (bn1): BatchNorm2d(256, eps=1e-05, momentum=0.1, affine=True, track_running_stats=True)\n        (relu): ReLU(inplace=True)\n        (conv2): Conv2d(256, 256, kernel_size=(3, 3), stride=(1, 1), padding=(1, 1), bias=False)\n        (bn2): BatchNorm2d(256, eps=1e-05, momentum=0.1, affine=True, track_running_stats=True)\n        (downsample): Sequential(\n          (0): Conv2d(128, 256, kernel_size=(1, 1), stride=(2, 2), bias=False)\n          (1): BatchNorm2d(256, eps=1e-05, momentum=0.1, affine=True, track_running_stats=True)\n        )\n      )\n      (1): BasicBlock(\n        (conv1): Conv2d(256, 256, kernel_size=(3, 3), stride=(1, 1), padding=(1, 1), bias=False)\n        (bn1): BatchNorm2d(256, eps=1e-05, momentum=0.1, affine=True, track_running_stats=True)\n        (relu): ReLU(inplace=True)\n        (conv2): Conv2d(256, 256, kernel_size=(3, 3), stride=(1, 1), padding=(1, 1), bias=False)\n        (bn2): BatchNorm2d(256, eps=1e-05, momentum=0.1, affine=True, track_running_stats=True)\n      )\n      (2): BasicBlock(\n        (conv1): Conv2d(256, 256, kernel_size=(3, 3), stride=(1, 1), padding=(1, 1), bias=False)\n        (bn1): BatchNorm2d(256, eps=1e-05, momentum=0.1, affine=True, track_running_stats=True)\n        (relu): ReLU(inplace=True)\n        (conv2): Conv2d(256, 256, kernel_size=(3, 3), stride=(1, 1), padding=(1, 1), bias=False)\n        (bn2): BatchNorm2d(256, eps=1e-05, momentum=0.1, affine=True, track_running_stats=True)\n      )\n      (3): BasicBlock(\n        (conv1): Conv2d(256, 256, kernel_size=(3, 3), stride=(1, 1), padding=(1, 1), bias=False)\n        (bn1): BatchNorm2d(256, eps=1e-05, momentum=0.1, affine=True, track_running_stats=True)\n        (relu): ReLU(inplace=True)\n        (conv2): Conv2d(256, 256, kernel_size=(3, 3), stride=(1, 1), padding=(1, 1), bias=False)\n        (bn2): BatchNorm2d(256, eps=1e-05, momentum=0.1, affine=True, track_running_stats=True)\n      )\n      (4): BasicBlock(\n        (conv1): Conv2d(256, 256, kernel_size=(3, 3), stride=(1, 1), padding=(1, 1), bias=False)\n        (bn1): BatchNorm2d(256, eps=1e-05, momentum=0.1, affine=True, track_running_stats=True)\n        (relu): ReLU(inplace=True)\n        (conv2): Conv2d(256, 256, kernel_size=(3, 3), stride=(1, 1), padding=(1, 1), bias=False)\n        (bn2): BatchNorm2d(256, eps=1e-05, momentum=0.1, affine=True, track_running_stats=True)\n      )\n      (5): BasicBlock(\n        (conv1): Conv2d(256, 256, kernel_size=(3, 3), stride=(1, 1), padding=(1, 1), bias=False)\n        (bn1): BatchNorm2d(256, eps=1e-05, momentum=0.1, affine=True, track_running_stats=True)\n        (relu): ReLU(inplace=True)\n        (conv2): Conv2d(256, 256, kernel_size=(3, 3), stride=(1, 1), padding=(1, 1), bias=False)\n        (bn2): BatchNorm2d(256, eps=1e-05, momentum=0.1, affine=True, track_running_stats=True)\n      )\n    )\n    (layer4): Sequential(\n      (0): BasicBlock(\n        (conv1): Conv2d(256, 512, kernel_size=(3, 3), stride=(2, 2), padding=(1, 1), bias=False)\n        (bn1): BatchNorm2d(512, eps=1e-05, momentum=0.1, affine=True, track_running_stats=True)\n        (relu): ReLU(inplace=True)\n        (conv2): Conv2d(512, 512, kernel_size=(3, 3), stride=(1, 1), padding=(1, 1), bias=False)\n        (bn2): BatchNorm2d(512, eps=1e-05, momentum=0.1, affine=True, track_running_stats=True)\n        (downsample): Sequential(\n          (0): Conv2d(256, 512, kernel_size=(1, 1), stride=(2, 2), bias=False)\n          (1): BatchNorm2d(512, eps=1e-05, momentum=0.1, affine=True, track_running_stats=True)\n        )\n      )\n      (1): BasicBlock(\n        (conv1): Conv2d(512, 512, kernel_size=(3, 3), stride=(1, 1), padding=(1, 1), bias=False)\n        (bn1): BatchNorm2d(512, eps=1e-05, momentum=0.1, affine=True, track_running_stats=True)\n        (relu): ReLU(inplace=True)\n        (conv2): Conv2d(512, 512, kernel_size=(3, 3), stride=(1, 1), padding=(1, 1), bias=False)\n        (bn2): BatchNorm2d(512, eps=1e-05, momentum=0.1, affine=True, track_running_stats=True)\n      )\n      (2): BasicBlock(\n        (conv1): Conv2d(512, 512, kernel_size=(3, 3), stride=(1, 1), padding=(1, 1), bias=False)\n        (bn1): BatchNorm2d(512, eps=1e-05, momentum=0.1, affine=True, track_running_stats=True)\n        (relu): ReLU(inplace=True)\n        (conv2): Conv2d(512, 512, kernel_size=(3, 3), stride=(1, 1), padding=(1, 1), bias=False)\n        (bn2): BatchNorm2d(512, eps=1e-05, momentum=0.1, affine=True, track_running_stats=True)\n      )\n    )\n    (avgpool): AdaptiveAvgPool2d(output_size=(1, 1))\n    (fc): Linear(in_features=512, out_features=1000, bias=True)\n  )\n  (cls_head): Sequential(\n    (0): Linear(in_features=1000, out_features=64, bias=True)\n    (1): ReLU()\n    (2): Linear(in_features=64, out_features=1, bias=True)\n    (3): Sigmoid()\n  )\n)"
     },
     "execution_count": 110,
     "metadata": {},
     "output_type": "execute_result"
    }
   ],
   "source": [
    "# load in a saved model\n",
    "model = SiameseNetwork()\n",
    "model.load_state_dict(torch.load(\"epoch_90_0.8876678876678876.pth\")[\"model_state_dict\"])\n",
    "model.cuda()"
   ],
   "metadata": {
    "collapsed": false,
    "pycharm": {
     "name": "#%%\n"
    }
   }
  },
  {
   "cell_type": "code",
   "execution_count": 111,
   "outputs": [
    {
     "name": "stdout",
     "output_type": "stream",
     "text": [
      "tensor([[0.0005]], device='cuda:0', grad_fn=<SigmoidBackward0>)\n"
     ]
    },
    {
     "name": "stderr",
     "output_type": "stream",
     "text": [
      "C:\\Users\\Admin\\AppData\\Local\\Temp\\ipykernel_15316\\504416511.py:8: DeprecationWarning: TRANSPOSE is deprecated and will be removed in Pillow 10 (2023-07-01). Use Transpose.TRANSPOSE instead.\n",
      "  img1 = img1.transpose(Image.TRANSPOSE)\n"
     ]
    }
   ],
   "source": [
    "# predict with model.eval() on\n",
    "model.eval()\n",
    "img1 = PIL.Image.open(r\"D:\\PycharmProjects\\AISS\\siamese\\dataset_false_val\\1\\2_8.jpg\")\n",
    "img2 = PIL.Image.open(r\"D:\\PycharmProjects\\AISS\\siamese\\dataset_true_val\\1\\2_417.jpg\")\n",
    "\n",
    "width, height = img1.size\n",
    "if width > height:\n",
    "    img1 = img1.transpose(Image.TRANSPOSE)\n",
    "width, height = img2.size\n",
    "if width > height:\n",
    "    img2 = img2.transpose(Image.TRANSPOSE)\n",
    "transform = transforms.Compose([transforms.Resize((150, 50)),transforms.ToTensor()])\n",
    "img1 = transform(img1).cuda()\n",
    "img2 = transform(img2).cuda()\n",
    "img1 = img1[None, :]\n",
    "img2 = img2[None, :]\n",
    "outputs = model(img1, img2)\n",
    "print(outputs)"
   ],
   "metadata": {
    "collapsed": false,
    "pycharm": {
     "name": "#%%\n"
    }
   }
  }
 ],
 "metadata": {
  "kernelspec": {
   "display_name": "Python 3",
   "language": "python",
   "name": "python3"
  },
  "language_info": {
   "codemirror_mode": {
    "name": "ipython",
    "version": 2
   },
   "file_extension": ".py",
   "mimetype": "text/x-python",
   "name": "python",
   "nbconvert_exporter": "python",
   "pygments_lexer": "ipython2",
   "version": "2.7.6"
  }
 },
 "nbformat": 4,
 "nbformat_minor": 0
}