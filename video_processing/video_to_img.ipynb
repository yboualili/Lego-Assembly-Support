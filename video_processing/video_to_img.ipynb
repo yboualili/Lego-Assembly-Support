{
 "cells": [
  {
   "cell_type": "code",
   "execution_count": 33,
   "metadata": {
    "collapsed": true
   },
   "outputs": [],
   "source": [
    "import cv2\n",
    "import skimage"
   ]
  },
  {
   "cell_type": "code",
   "execution_count": 33,
   "outputs": [],
   "source": [],
   "metadata": {
    "collapsed": false,
    "pycharm": {
     "name": "#%%\n"
    }
   }
  },
  {
   "cell_type": "code",
   "execution_count": 34,
   "outputs": [],
   "source": [
    "# open camera stream and check if the video could be loaded\n",
    "cap = cv2.VideoCapture(r'siamese_3_false.mp4')\n",
    "cap.isOpened()"
   ],
   "metadata": {
    "collapsed": false,
    "pycharm": {
     "name": "#%%\n"
    }
   }
  },
  {
   "cell_type": "code",
   "execution_count": null,
   "outputs": [],
   "source": [
    "\n",
    "last_frame = []\n",
    "detected = False\n",
    "best_mse = 100\n",
    "fps_count = 0\n",
    "\n",
    "while(cap.isOpened()):\n",
    "    # Capture frame-by-frame\n",
    "    ret, frame = cap.read()\n",
    "    # set the frames captured (+=1 equals capture every frame)\n",
    "    fps_count += 1 # i.e. at 30 fps, this advances one second\n",
    "    cap.set(cv2.CAP_PROP_POS_FRAMES, fps_count)\n",
    "    if len(last_frame) != 0:\n",
    "        #compute mse\n",
    "        mse = skimage.metrics.mean_squared_error(frame, last_frame)\n",
    "        if mse < 30:\n",
    "            #if lower threshold has been passed only log the frame with the lowest mse\n",
    "            if detected == False and mse <= best_mse:\n",
    "                best_frame = frame\n",
    "                best_mse = mse\n",
    "            detected = True\n",
    "        #if upper threshold has been passed\n",
    "        elif mse > 50:\n",
    "            if detected == True:\n",
    "                cv2.imwrite(f\"siamese/siamese_false{fps_count}.jpg\", best_frame)\n",
    "                best_mse = 100\n",
    "            detected = False\n",
    "\n",
    "    # Press Q on keyboard to  exit\n",
    "    if cv2.waitKey(25) & 0xFF == ord('q'):\n",
    "        break\n",
    "\n",
    "    last_frame = frame\n",
    "\n",
    "# When everything done, release the video capture object\n",
    "cap.release()\n",
    "\n",
    "# Closes all the frames\n",
    "cv2.destroyAllWindows()"
   ],
   "metadata": {
    "collapsed": false,
    "pycharm": {
     "name": "#%%\n",
     "is_executing": true
    }
   }
  }
 ],
 "metadata": {
  "kernelspec": {
   "display_name": "Python 3",
   "language": "python",
   "name": "python3"
  },
  "language_info": {
   "codemirror_mode": {
    "name": "ipython",
    "version": 2
   },
   "file_extension": ".py",
   "mimetype": "text/x-python",
   "name": "python",
   "nbconvert_exporter": "python",
   "pygments_lexer": "ipython2",
   "version": "2.7.6"
  }
 },
 "nbformat": 4,
 "nbformat_minor": 0
}